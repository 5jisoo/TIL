{
  "nbformat": 4,
  "nbformat_minor": 0,
  "metadata": {
    "colab": {
      "provenance": []
    },
    "kernelspec": {
      "name": "python3",
      "display_name": "Python 3"
    },
    "language_info": {
      "name": "python"
    }
  },
  "cells": [
    {
      "cell_type": "markdown",
      "source": [
        "# 파이썬으로 계산하기 - Numpy\n",
        "\n",
        "### 파이썬은 인터프리터!\n",
        "\n",
        "리스트 계산은 매우 늦기 때문에 적절한 패키지를 이용해야 한다!\n",
        "\n",
        "⇒ **파이썬 과학 처리 패키지 : Numpy**\n",
        "\n",
        "## Numpy\n",
        "\n",
        "### 넘파이란?\n",
        "\n",
        "- Numerical Python\n",
        "- 파이썬의 고성능 과학 계산용 패키지\n",
        "- Matrix와 Vector와 같은 Array 연산의 사실상의 표준\n",
        "- 한글로 넘파이로 주로 통칭, 넘피/늄파이라고 부르기도 함\n",
        "\n",
        "### Numpy 특징\n",
        "\n",
        "- 일반 List에 비해 빠르고, 메모리 효율적\n",
        "- 반복문 없이 데이터 배열에 대한 처리를 지원함\n",
        "- 선형대수와 관련된 다양한 기능을 제공함\n",
        "- C, C++, 포트란 등의 언어와 통합 가능"
      ],
      "metadata": {
        "id": "QEzApIT_TzyI"
      }
    },
    {
      "cell_type": "markdown",
      "source": [
        "### Numpy 호출하기\n",
        "\n",
        " 일반적으로 numpy는 np라는 alias(별칭) 이용해서 호출함"
      ],
      "metadata": {
        "id": "t7U0mtIRUAiK"
      }
    },
    {
      "cell_type": "code",
      "execution_count": 1,
      "metadata": {
        "id": "53k61bfbTxIH"
      },
      "outputs": [],
      "source": [
        "# import numpy\n",
        "\n",
        "import numpy as np"
      ]
    },
    {
      "cell_type": "markdown",
      "source": [
        "### Array Creation\n",
        "\n",
        "- numpy는 np.array 함수를 활용하여 배열을 생성함 => ndarray\n",
        "- numpy는 **하나의 데이터 type**만 배열에 넣을 수 있음\n",
        "- List와 가장 큰 차이점, **Dynamic typing not supported**\n",
        "  - Dynamic typing: 하나의 리스트에 다양한 데이터를 허락. 런타임시간에 타입 변동 가능한 것.\n",
        "\n",
        "- C의 Array를 사용하여 배열을 생성함\n",
        "\n",
        "\n",
        "참고: 파이썬의 list handling에 관한 자세한 성능을 이해하면 더 좋다고 함."
      ],
      "metadata": {
        "id": "xrkO5cz-UIhX"
      }
    },
    {
      "cell_type": "code",
      "source": [
        "test_array = np.array([\"1\", \"4\", 5, 8], float)  # \"1\", \"4\" 등등 모든 원소가 float type이 됨.\n",
        "test_array"
      ],
      "metadata": {
        "colab": {
          "base_uri": "https://localhost:8080/"
        },
        "id": "oqWsN6rPUICF",
        "outputId": "3619d0aa-2875-4e9d-e86c-55cd6469a002"
      },
      "execution_count": 3,
      "outputs": [
        {
          "output_type": "execute_result",
          "data": {
            "text/plain": [
              "array([1., 4., 5., 8.])"
            ]
          },
          "metadata": {},
          "execution_count": 3
        }
      ]
    },
    {
      "cell_type": "code",
      "source": [
        "type(test_array[0])"
      ],
      "metadata": {
        "colab": {
          "base_uri": "https://localhost:8080/"
        },
        "id": "MJ0vPG8_U-gt",
        "outputId": "480bf6d3-3531-4b4d-e8c8-88850d5ffed5"
      },
      "execution_count": 5,
      "outputs": [
        {
          "output_type": "execute_result",
          "data": {
            "text/plain": [
              "numpy.float64"
            ]
          },
          "metadata": {},
          "execution_count": 5
        }
      ]
    },
    {
      "cell_type": "markdown",
      "source": [
        "- shape: numpy array의 dimension의 구성을 반환\n",
        "  - 주의) 행 몇개, 열 몇개 느낌으로 정해져있는 것이 아니라 **가장 큰 단위부터 세면서 몇개인지 바라보는** 느낌\n",
        "- dtype: numpy array의 데이터 type을 반환"
      ],
      "metadata": {
        "id": "fiyRfYFtVP7r"
      }
    },
    {
      "cell_type": "code",
      "source": [
        "test_array.shape # array dimension 반환. - tuple 형태"
      ],
      "metadata": {
        "colab": {
          "base_uri": "https://localhost:8080/"
        },
        "id": "KZJxjzKtWMZ3",
        "outputId": "d5fd67ca-430c-4967-b404-b88a30c8b9a6"
      },
      "execution_count": 6,
      "outputs": [
        {
          "output_type": "execute_result",
          "data": {
            "text/plain": [
              "(4,)"
            ]
          },
          "metadata": {},
          "execution_count": 6
        }
      ]
    },
    {
      "cell_type": "code",
      "source": [
        "test_array.dtype"
      ],
      "metadata": {
        "colab": {
          "base_uri": "https://localhost:8080/"
        },
        "id": "dqpTT_kxWUtd",
        "outputId": "4c19ffb3-48a1-4c83-bd93-402744540723"
      },
      "execution_count": 7,
      "outputs": [
        {
          "output_type": "execute_result",
          "data": {
            "text/plain": [
              "dtype('float64')"
            ]
          },
          "metadata": {},
          "execution_count": 7
        }
      ]
    },
    {
      "cell_type": "markdown",
      "source": [
        "- 다음과 같이 가장 큰 단위부터 4, 3, 4 임을 알 수 있음"
      ],
      "metadata": {
        "id": "HLFLlBaRXbXw"
      }
    },
    {
      "cell_type": "code",
      "source": [
        "tensor  = [[[1,2,5,8],[1,2,5,8],[1,2,5,8]], \n",
        "           [[1,2,5,8],[1,2,5,8],[1,2,5,8]], \n",
        "           [[1,2,5,8],[1,2,5,8],[1,2,5,8]], \n",
        "           [[1,2,5,8],[1,2,5,8],[1,2,5,8]]]\n",
        "np.array(tensor, int).shape"
      ],
      "metadata": {
        "colab": {
          "base_uri": "https://localhost:8080/"
        },
        "id": "ygF18r_lWagF",
        "outputId": "7547232a-1038-4498-d36e-622b356997c1"
      },
      "execution_count": 8,
      "outputs": [
        {
          "output_type": "execute_result",
          "data": {
            "text/plain": [
              "(4, 3, 4)"
            ]
          },
          "metadata": {},
          "execution_count": 8
        }
      ]
    },
    {
      "cell_type": "markdown",
      "source": [
        "- ndim: number of dimension\n",
        "- size: number of data"
      ],
      "metadata": {
        "id": "EGvDihhLXv6W"
      }
    },
    {
      "cell_type": "code",
      "source": [
        "tensor_array = np.array(tensor, dtype = int)\n",
        "tensor_array.ndim"
      ],
      "metadata": {
        "colab": {
          "base_uri": "https://localhost:8080/"
        },
        "id": "Sn3sopTdX295",
        "outputId": "2af113ce-d03b-4c96-f768-24402a0dd3c2"
      },
      "execution_count": 14,
      "outputs": [
        {
          "output_type": "execute_result",
          "data": {
            "text/plain": [
              "3"
            ]
          },
          "metadata": {},
          "execution_count": 14
        }
      ]
    },
    {
      "cell_type": "code",
      "source": [
        "tensor_array.size # 4*3*4 = 48"
      ],
      "metadata": {
        "colab": {
          "base_uri": "https://localhost:8080/"
        },
        "id": "NscLuQsIYEni",
        "outputId": "3f660c8c-271b-42ac-923b-26c7c7d373c6"
      },
      "execution_count": 15,
      "outputs": [
        {
          "output_type": "execute_result",
          "data": {
            "text/plain": [
              "48"
            ]
          },
          "metadata": {},
          "execution_count": 15
        }
      ]
    },
    {
      "cell_type": "code",
      "source": [
        "tensor_array.dtype"
      ],
      "metadata": {
        "colab": {
          "base_uri": "https://localhost:8080/"
        },
        "id": "FPpzDkbaYajW",
        "outputId": "e6fd44ff-6244-4562-a6d4-263576c9c5a9"
      },
      "execution_count": 16,
      "outputs": [
        {
          "output_type": "execute_result",
          "data": {
            "text/plain": [
              "dtype('int64')"
            ]
          },
          "metadata": {},
          "execution_count": 16
        }
      ]
    },
    {
      "cell_type": "markdown",
      "source": [
        "### Array dtype\n",
        "- Ndarray의 single element가 가지는 data type\n",
        "- 각 element가 차지하는 memory의 크기가 결정됨\n",
        "\n",
        "``` python\n",
        "tensor_array = np.array(tensor, dtype = int) # Data type을 integer로 선언\n",
        "```"
      ],
      "metadata": {
        "id": "p2GyMrILYQkr"
      }
    },
    {
      "cell_type": "markdown",
      "source": [
        "- nbytes - ndarray object의 메모리 크기를 반환함"
      ],
      "metadata": {
        "id": "Ygkr6UxeYya1"
      }
    },
    {
      "cell_type": "code",
      "source": [
        "tensor_array.nbytes # 48(총 48개)*8(int64)"
      ],
      "metadata": {
        "colab": {
          "base_uri": "https://localhost:8080/"
        },
        "id": "5j_rE_2IY3Wz",
        "outputId": "4a4139b0-9555-41c4-bdb4-fe48dbb2610c"
      },
      "execution_count": 17,
      "outputs": [
        {
          "output_type": "execute_result",
          "data": {
            "text/plain": [
              "384"
            ]
          },
          "metadata": {},
          "execution_count": 17
        }
      ]
    },
    {
      "cell_type": "markdown",
      "source": [
        "## Handling shape\n",
        "### reshape\n",
        "- Array의 shape의 크기를 변경함.\n",
        "  - number of element의 크기만 동일하게 맞춰주면 됨.\n",
        "  - Array의 size만 동일하다면 다차원으로 자유로이 변형 가능"
      ],
      "metadata": {
        "id": "mnB97398ZIAn"
      }
    },
    {
      "cell_type": "code",
      "source": [
        "test_matrix = np.array([[1,2,3,4], [1,2,3,4], [1,2,3,4], [1,2,3,4] ], dtype=int)\n",
        "test_matrix.shape"
      ],
      "metadata": {
        "colab": {
          "base_uri": "https://localhost:8080/"
        },
        "id": "h3xVhsmwZP7e",
        "outputId": "e7651d47-5471-43ca-e031-b72168d7dd61"
      },
      "execution_count": 20,
      "outputs": [
        {
          "output_type": "execute_result",
          "data": {
            "text/plain": [
              "(4, 4)"
            ]
          },
          "metadata": {},
          "execution_count": 20
        }
      ]
    },
    {
      "cell_type": "code",
      "source": [
        "reshape_matrix = test_matrix.reshape(8, 2)\n",
        "\n",
        "reshape_matrix"
      ],
      "metadata": {
        "colab": {
          "base_uri": "https://localhost:8080/"
        },
        "id": "nywaHmdAZbSA",
        "outputId": "b40da62f-0667-4fb1-d560-015f11df054c"
      },
      "execution_count": 25,
      "outputs": [
        {
          "output_type": "execute_result",
          "data": {
            "text/plain": [
              "array([[1, 2],\n",
              "       [3, 4],\n",
              "       [1, 2],\n",
              "       [3, 4],\n",
              "       [1, 2],\n",
              "       [3, 4],\n",
              "       [1, 2],\n",
              "       [3, 4]])"
            ]
          },
          "metadata": {},
          "execution_count": 25
        }
      ]
    },
    {
      "cell_type": "code",
      "source": [
        "reshape_matrix.shape # (8,2)"
      ],
      "metadata": {
        "colab": {
          "base_uri": "https://localhost:8080/"
        },
        "id": "5KVfT6AhZ8XA",
        "outputId": "2b285c27-f51d-4e39-bd11-6d4eafcb6225"
      },
      "execution_count": 27,
      "outputs": [
        {
          "output_type": "execute_result",
          "data": {
            "text/plain": [
              "(8, 2)"
            ]
          },
          "metadata": {},
          "execution_count": 27
        }
      ]
    },
    {
      "cell_type": "code",
      "source": [
        "test_matrix # 원본은 바뀌지 않는 듯"
      ],
      "metadata": {
        "colab": {
          "base_uri": "https://localhost:8080/"
        },
        "id": "x2xfLu1wZ2oD",
        "outputId": "f755ba93-5c39-45fb-a5b6-476efffa9242"
      },
      "execution_count": 26,
      "outputs": [
        {
          "output_type": "execute_result",
          "data": {
            "text/plain": [
              "array([[1, 2, 3, 4],\n",
              "       [1, 2, 3, 4],\n",
              "       [1, 2, 3, 4],\n",
              "       [1, 2, 3, 4]])"
            ]
          },
          "metadata": {},
          "execution_count": 26
        }
      ]
    },
    {
      "cell_type": "markdown",
      "source": [
        "- reshape의 인수를 -1로?\n",
        "  - size를 기반으로 row 개수를 선정해줌."
      ],
      "metadata": {
        "id": "Tarf5bOxaTaJ"
      }
    },
    {
      "cell_type": "code",
      "source": [
        "test_matrix.reshape(-1, 2).shape # -1: size를 기반으로 row 개수 선정"
      ],
      "metadata": {
        "colab": {
          "base_uri": "https://localhost:8080/"
        },
        "id": "ssajGJOOaKD6",
        "outputId": "063df9cd-2eaa-446f-a369-7338cc64f32c"
      },
      "execution_count": 28,
      "outputs": [
        {
          "output_type": "execute_result",
          "data": {
            "text/plain": [
              "(8, 2)"
            ]
          },
          "metadata": {},
          "execution_count": 28
        }
      ]
    },
    {
      "cell_type": "code",
      "source": [
        "test_matrix.reshape(4, -1).shape"
      ],
      "metadata": {
        "colab": {
          "base_uri": "https://localhost:8080/"
        },
        "id": "VJax1N2FaeL9",
        "outputId": "03a93fb3-1efa-49d4-d553-04cf8288e3bf"
      },
      "execution_count": 30,
      "outputs": [
        {
          "output_type": "execute_result",
          "data": {
            "text/plain": [
              "(4, 4)"
            ]
          },
          "metadata": {},
          "execution_count": 30
        }
      ]
    },
    {
      "cell_type": "markdown",
      "source": [
        "### flatten\n",
        "- 다차원 array를 1차원 array로 변환함."
      ],
      "metadata": {
        "id": "5LhWSiy3asP_"
      }
    },
    {
      "cell_type": "code",
      "source": [
        "test_array  = [[[1,2,5,8],[1,2,5,8],[1,2,5,8]], \n",
        "           [[1,2,5,8],[1,2,5,8],[1,2,5,8]], \n",
        "           [[1,2,5,8],[1,2,5,8],[1,2,5,8]], \n",
        "           [[1,2,5,8],[1,2,5,8],[1,2,5,8]]]\n",
        "np.array(test_array).flatten()"
      ],
      "metadata": {
        "colab": {
          "base_uri": "https://localhost:8080/"
        },
        "id": "Ssi3ZnuAao62",
        "outputId": "f395a95e-54b3-4d6d-fbcf-80864bb2f7e2"
      },
      "execution_count": 31,
      "outputs": [
        {
          "output_type": "execute_result",
          "data": {
            "text/plain": [
              "array([1, 2, 5, 8, 1, 2, 5, 8, 1, 2, 5, 8, 1, 2, 5, 8, 1, 2, 5, 8, 1, 2,\n",
              "       5, 8, 1, 2, 5, 8, 1, 2, 5, 8, 1, 2, 5, 8, 1, 2, 5, 8, 1, 2, 5, 8,\n",
              "       1, 2, 5, 8])"
            ]
          },
          "metadata": {},
          "execution_count": 31
        }
      ]
    },
    {
      "cell_type": "markdown",
      "source": [
        "## Index & Slicing\n",
        "### Indexing\n",
        "- List와 달리 이차원 배열에서 [0,0] 과 같은 표기법을 제공함\n",
        "- Matrix 일경우 앞은 row 뒤는 column을 의미함"
      ],
      "metadata": {
        "id": "0t5CyR3XbdNC"
      }
    },
    {
      "cell_type": "code",
      "source": [
        "a = np.array([[1, 2, 3], [4.5, 5, 6]], int)\n",
        "print(a)\n",
        "\n",
        "print(a[0,0]) # Two dimensional array representation #1\n",
        "print(a[0][0]) # Two dimensional array representation #2\n",
        "\n",
        "a[0,0] = 12 # Matrix 0,0 에 12 할당\n",
        "print(a)\n",
        "\n",
        "a[0][0] = 5 # Matrix 0,0 에 12 할당\n",
        "print(a)\n"
      ],
      "metadata": {
        "colab": {
          "base_uri": "https://localhost:8080/"
        },
        "id": "YQL74DUQbc9w",
        "outputId": "abe6aeb8-24ce-47b1-a52a-1ab079143cac"
      },
      "execution_count": 32,
      "outputs": [
        {
          "output_type": "stream",
          "name": "stdout",
          "text": [
            "[[1 2 3]\n",
            " [4 5 6]]\n",
            "1\n",
            "1\n",
            "[[12  2  3]\n",
            " [ 4  5  6]]\n",
            "[[5 2 3]\n",
            " [4 5 6]]\n"
          ]
        }
      ]
    },
    {
      "cell_type": "markdown",
      "source": [
        "### Slicing\n",
        "\n",
        "- List와 달리 행과 열 부분을 나눠서 slicing이 가능함\n",
        "- Matrix의 부분 집합을 추출할 때 유용함\n",
        "\n",
        "참고) , (콤마) 위치만 잘 보면 해석은 전부 가능함.\n",
        "- `::2` 표현을 통해 2step씩 떨어진 데이터를 가져올 수도 있음. \n",
        "\n"
      ],
      "metadata": {
        "id": "bc084AqlcFtY"
      }
    },
    {
      "cell_type": "code",
      "source": [
        "a = np.array([[1, 2, 3, 4, 5], [6, 7, 8, 9, 10]], int)\n",
        "\n",
        "a[:,2:] # 전체 Row의 2열 이상"
      ],
      "metadata": {
        "colab": {
          "base_uri": "https://localhost:8080/"
        },
        "id": "4Y3eZZ1XcLaL",
        "outputId": "c0a0096e-34bb-481a-bb0d-8dbd7f670601"
      },
      "execution_count": 35,
      "outputs": [
        {
          "output_type": "execute_result",
          "data": {
            "text/plain": [
              "array([[ 3,  4,  5],\n",
              "       [ 8,  9, 10]])"
            ]
          },
          "metadata": {},
          "execution_count": 35
        }
      ]
    },
    {
      "cell_type": "code",
      "source": [
        "a[1,1:3] # 1 Row의 1열 ~ 2열 "
      ],
      "metadata": {
        "colab": {
          "base_uri": "https://localhost:8080/"
        },
        "id": "zr1Sh703cwVq",
        "outputId": "bf9e1565-5f03-4def-ec2e-b53a2c9cbe9a"
      },
      "execution_count": 36,
      "outputs": [
        {
          "output_type": "execute_result",
          "data": {
            "text/plain": [
              "array([7, 8])"
            ]
          },
          "metadata": {},
          "execution_count": 36
        }
      ]
    },
    {
      "cell_type": "code",
      "source": [
        "a[1:3] # 1 Row ~ 2Row의 전체"
      ],
      "metadata": {
        "colab": {
          "base_uri": "https://localhost:8080/"
        },
        "id": "HgeMehq1cyj3",
        "outputId": "53d3acfc-0168-4339-9cb5-dcdd2a642d79"
      },
      "execution_count": 37,
      "outputs": [
        {
          "output_type": "execute_result",
          "data": {
            "text/plain": [
              "array([[ 6,  7,  8,  9, 10]])"
            ]
          },
          "metadata": {},
          "execution_count": 37
        }
      ]
    },
    {
      "cell_type": "markdown",
      "source": [
        "## Creation function\n",
        "### arange\n",
        "- array의 범위를 지정하여, 값의 list를 생성하는 명령어"
      ],
      "metadata": {
        "id": "6uRKEc43dG5G"
      }
    },
    {
      "cell_type": "code",
      "source": [
        "np.arange(30)"
      ],
      "metadata": {
        "colab": {
          "base_uri": "https://localhost:8080/"
        },
        "id": "wQfOnGATdLjQ",
        "outputId": "7f252bd1-56d2-4ed7-850d-eb0951dfbe84"
      },
      "execution_count": 38,
      "outputs": [
        {
          "output_type": "execute_result",
          "data": {
            "text/plain": [
              "array([ 0,  1,  2,  3,  4,  5,  6,  7,  8,  9, 10, 11, 12, 13, 14, 15, 16,\n",
              "       17, 18, 19, 20, 21, 22, 23, 24, 25, 26, 27, 28, 29])"
            ]
          },
          "metadata": {},
          "execution_count": 38
        }
      ]
    },
    {
      "cell_type": "code",
      "source": [
        "np.arange(0, 5, 0.5) # 시작, 끝, step"
      ],
      "metadata": {
        "colab": {
          "base_uri": "https://localhost:8080/"
        },
        "id": "TDfzxHF7dSdZ",
        "outputId": "40cd86a9-bfcb-4d68-bffe-a7f6d65ebe89"
      },
      "execution_count": 39,
      "outputs": [
        {
          "output_type": "execute_result",
          "data": {
            "text/plain": [
              "array([0. , 0.5, 1. , 1.5, 2. , 2.5, 3. , 3.5, 4. , 4.5])"
            ]
          },
          "metadata": {},
          "execution_count": 39
        }
      ]
    },
    {
      "cell_type": "code",
      "source": [
        "np.arange(30).reshape(5, 6)"
      ],
      "metadata": {
        "colab": {
          "base_uri": "https://localhost:8080/"
        },
        "id": "T81-1qvTdZ_9",
        "outputId": "c0e1b0e1-c793-4be0-a1ce-e44175830b01"
      },
      "execution_count": 40,
      "outputs": [
        {
          "output_type": "execute_result",
          "data": {
            "text/plain": [
              "array([[ 0,  1,  2,  3,  4,  5],\n",
              "       [ 6,  7,  8,  9, 10, 11],\n",
              "       [12, 13, 14, 15, 16, 17],\n",
              "       [18, 19, 20, 21, 22, 23],\n",
              "       [24, 25, 26, 27, 28, 29]])"
            ]
          },
          "metadata": {},
          "execution_count": 40
        }
      ]
    },
    {
      "cell_type": "code",
      "source": [
        "np.arange(0, 10, 0.5).reshape(2, -1)"
      ],
      "metadata": {
        "colab": {
          "base_uri": "https://localhost:8080/"
        },
        "id": "7-0_4fBFdgjb",
        "outputId": "1a5ed229-aea1-4fe4-9e95-9a3aaf540b8d"
      },
      "execution_count": 41,
      "outputs": [
        {
          "output_type": "execute_result",
          "data": {
            "text/plain": [
              "array([[0. , 0.5, 1. , 1.5, 2. , 2.5, 3. , 3.5, 4. , 4.5],\n",
              "       [5. , 5.5, 6. , 6.5, 7. , 7.5, 8. , 8.5, 9. , 9.5]])"
            ]
          },
          "metadata": {},
          "execution_count": 41
        }
      ]
    },
    {
      "cell_type": "markdown",
      "source": [
        "### ones, zeros and empty\n",
        "- zeros – 0으로 가득찬 ndarray 생성\n",
        "  - np.zeros(shape, dtype, order)\n",
        "\n",
        "- ones – 1로 가득찬 ndarrary 생성\n",
        "  - np.ones(shape, dtype, order)\n",
        "\n",
        "- empty – shape만 주어지고 비어있는 ndarray 생성\n",
        "  - (memory initialization 이 되지 않음)"
      ],
      "metadata": {
        "id": "iehN0j9AdrtS"
      }
    },
    {
      "cell_type": "code",
      "source": [
        "np.zeros(shape=(10,), dtype=int)"
      ],
      "metadata": {
        "colab": {
          "base_uri": "https://localhost:8080/"
        },
        "id": "jQMxmn3Ydvj7",
        "outputId": "d86ea6b7-6878-45e2-8c51-096d3b16b2e5"
      },
      "execution_count": 42,
      "outputs": [
        {
          "output_type": "execute_result",
          "data": {
            "text/plain": [
              "array([0, 0, 0, 0, 0, 0, 0, 0, 0, 0])"
            ]
          },
          "metadata": {},
          "execution_count": 42
        }
      ]
    },
    {
      "cell_type": "code",
      "source": [
        "np.ones(shape=(2, 5, 3), dtype=float)"
      ],
      "metadata": {
        "colab": {
          "base_uri": "https://localhost:8080/"
        },
        "id": "5Exz8TuYd2fp",
        "outputId": "a7cbb453-d2bc-4b92-c09e-83cf32ee6080"
      },
      "execution_count": 44,
      "outputs": [
        {
          "output_type": "execute_result",
          "data": {
            "text/plain": [
              "array([[[1., 1., 1.],\n",
              "        [1., 1., 1.],\n",
              "        [1., 1., 1.],\n",
              "        [1., 1., 1.],\n",
              "        [1., 1., 1.]],\n",
              "\n",
              "       [[1., 1., 1.],\n",
              "        [1., 1., 1.],\n",
              "        [1., 1., 1.],\n",
              "        [1., 1., 1.],\n",
              "        [1., 1., 1.]]])"
            ]
          },
          "metadata": {},
          "execution_count": 44
        }
      ]
    },
    {
      "cell_type": "markdown",
      "source": [
        "### something_like\n",
        "- 기존 ndarray의 shape 크기 만큼 1, 0 또는 empty array를 반환\n"
      ],
      "metadata": {
        "id": "7wrukh9KeZOB"
      }
    },
    {
      "cell_type": "code",
      "source": [
        "test_matrix = np.arange(30).reshape(5, 6)\n",
        "np.ones_like(test_matrix)"
      ],
      "metadata": {
        "colab": {
          "base_uri": "https://localhost:8080/"
        },
        "id": "TKmoXpbuedcH",
        "outputId": "450e9d38-e830-423f-f5af-20b76ee24bf1"
      },
      "execution_count": 45,
      "outputs": [
        {
          "output_type": "execute_result",
          "data": {
            "text/plain": [
              "array([[1, 1, 1, 1, 1, 1],\n",
              "       [1, 1, 1, 1, 1, 1],\n",
              "       [1, 1, 1, 1, 1, 1],\n",
              "       [1, 1, 1, 1, 1, 1],\n",
              "       [1, 1, 1, 1, 1, 1]])"
            ]
          },
          "metadata": {},
          "execution_count": 45
        }
      ]
    },
    {
      "cell_type": "code",
      "source": [
        "np.zeros_like(test_matrix)"
      ],
      "metadata": {
        "colab": {
          "base_uri": "https://localhost:8080/"
        },
        "id": "_CQTs6Csel7E",
        "outputId": "64eb06db-46da-4167-b507-93dc97ad8f8f"
      },
      "execution_count": 46,
      "outputs": [
        {
          "output_type": "execute_result",
          "data": {
            "text/plain": [
              "array([[0, 0, 0, 0, 0, 0],\n",
              "       [0, 0, 0, 0, 0, 0],\n",
              "       [0, 0, 0, 0, 0, 0],\n",
              "       [0, 0, 0, 0, 0, 0],\n",
              "       [0, 0, 0, 0, 0, 0]])"
            ]
          },
          "metadata": {},
          "execution_count": 46
        }
      ]
    },
    {
      "cell_type": "markdown",
      "source": [
        "### identity\n",
        "- 단위 행렬(i 행렬)을 생성함\n",
        "  - n => number of rows\n"
      ],
      "metadata": {
        "id": "R5HZfiABevL7"
      }
    },
    {
      "cell_type": "code",
      "source": [
        "np.identity(n=3, dtype=np.int8)"
      ],
      "metadata": {
        "colab": {
          "base_uri": "https://localhost:8080/"
        },
        "id": "nuTUHAG_e0Lk",
        "outputId": "8a52017c-12c5-4b0d-a2ad-b23047248e7e"
      },
      "execution_count": 47,
      "outputs": [
        {
          "output_type": "execute_result",
          "data": {
            "text/plain": [
              "array([[1, 0, 0],\n",
              "       [0, 1, 0],\n",
              "       [0, 0, 1]], dtype=int8)"
            ]
          },
          "metadata": {},
          "execution_count": 47
        }
      ]
    },
    {
      "cell_type": "code",
      "source": [
        "np.identity(n=5, dtype=float)"
      ],
      "metadata": {
        "colab": {
          "base_uri": "https://localhost:8080/"
        },
        "id": "EBUBKc3Ve5jT",
        "outputId": "8800ee4c-c4e4-4218-875e-2e36736d5790"
      },
      "execution_count": 48,
      "outputs": [
        {
          "output_type": "execute_result",
          "data": {
            "text/plain": [
              "array([[1., 0., 0., 0., 0.],\n",
              "       [0., 1., 0., 0., 0.],\n",
              "       [0., 0., 1., 0., 0.],\n",
              "       [0., 0., 0., 1., 0.],\n",
              "       [0., 0., 0., 0., 1.]])"
            ]
          },
          "metadata": {},
          "execution_count": 48
        }
      ]
    },
    {
      "cell_type": "markdown",
      "source": [
        "### eye\n",
        "- 대각선인 1인 행렬, k값의 시작 index의 변경이 가능\n",
        "  - N(int): Number of rows in the output.\n",
        "  - M(int, optional): Number of columns in the output. If None, defaults to N.\n",
        "  - k(int, optional): Index of the diagonal: 0 (the default) refers to the main diagonal, a positive value refers to an upper diagonal, and a negative value\n",
        "to a lower diagonal."
      ],
      "metadata": {
        "id": "moXw4LFke4lR"
      }
    },
    {
      "cell_type": "code",
      "source": [
        "np.eye(N=3, M=5, dtype=int)"
      ],
      "metadata": {
        "colab": {
          "base_uri": "https://localhost:8080/"
        },
        "id": "j3el4E0CfA9f",
        "outputId": "c0afd8ae-1af4-459c-ef15-d36190b1803f"
      },
      "execution_count": 49,
      "outputs": [
        {
          "output_type": "execute_result",
          "data": {
            "text/plain": [
              "array([[1, 0, 0, 0, 0],\n",
              "       [0, 1, 0, 0, 0],\n",
              "       [0, 0, 1, 0, 0]])"
            ]
          },
          "metadata": {},
          "execution_count": 49
        }
      ]
    },
    {
      "cell_type": "code",
      "source": [
        "np.eye(N=4, M=5, k=1, dtype=int)"
      ],
      "metadata": {
        "colab": {
          "base_uri": "https://localhost:8080/"
        },
        "id": "kcQA__Wkfigg",
        "outputId": "72a16157-8597-4d29-c473-5025847db197"
      },
      "execution_count": 50,
      "outputs": [
        {
          "output_type": "execute_result",
          "data": {
            "text/plain": [
              "array([[0, 1, 0, 0, 0],\n",
              "       [0, 0, 1, 0, 0],\n",
              "       [0, 0, 0, 1, 0],\n",
              "       [0, 0, 0, 0, 1]])"
            ]
          },
          "metadata": {},
          "execution_count": 50
        }
      ]
    },
    {
      "cell_type": "markdown",
      "source": [
        "### diag\n",
        "- 대각 행렬의 위치를 추출함."
      ],
      "metadata": {
        "id": "njzXcv0Ffvfe"
      }
    },
    {
      "cell_type": "code",
      "source": [
        "matrix = np.arange(9).reshape(3,3)\n",
        "matrix"
      ],
      "metadata": {
        "colab": {
          "base_uri": "https://localhost:8080/"
        },
        "id": "vuKJ5Frrf29H",
        "outputId": "c8d03040-ba70-42ed-97b1-160e737e94ab"
      },
      "execution_count": 53,
      "outputs": [
        {
          "output_type": "execute_result",
          "data": {
            "text/plain": [
              "array([[0, 1, 2],\n",
              "       [3, 4, 5],\n",
              "       [6, 7, 8]])"
            ]
          },
          "metadata": {},
          "execution_count": 53
        }
      ]
    },
    {
      "cell_type": "code",
      "source": [
        "np.diag(matrix)"
      ],
      "metadata": {
        "colab": {
          "base_uri": "https://localhost:8080/"
        },
        "id": "dStlwNJRf71d",
        "outputId": "9a4bbb06-f4db-4204-b3bf-4c9761ebaf3b"
      },
      "execution_count": 54,
      "outputs": [
        {
          "output_type": "execute_result",
          "data": {
            "text/plain": [
              "array([0, 4, 8])"
            ]
          },
          "metadata": {},
          "execution_count": 54
        }
      ]
    },
    {
      "cell_type": "code",
      "source": [
        "np.diag(matrix, k=1) # k = start index"
      ],
      "metadata": {
        "colab": {
          "base_uri": "https://localhost:8080/"
        },
        "id": "lSV7epL1f_WF",
        "outputId": "e580193a-d39b-4839-a94e-0e8c8679d504"
      },
      "execution_count": 56,
      "outputs": [
        {
          "output_type": "execute_result",
          "data": {
            "text/plain": [
              "array([1, 5])"
            ]
          },
          "metadata": {},
          "execution_count": 56
        }
      ]
    },
    {
      "cell_type": "markdown",
      "source": [
        "### random sampling \n",
        "- 데이터 분포에 따른 sampling으로 array를 생성"
      ],
      "metadata": {
        "id": "b1DXjM8LgF2S"
      }
    },
    {
      "cell_type": "code",
      "source": [
        "np.random.uniform(0,1,10).reshape(2,5)  # 균등분포"
      ],
      "metadata": {
        "colab": {
          "base_uri": "https://localhost:8080/"
        },
        "id": "QgK29TExgKfh",
        "outputId": "95c271da-bfe5-4313-f688-38791a418216"
      },
      "execution_count": 59,
      "outputs": [
        {
          "output_type": "execute_result",
          "data": {
            "text/plain": [
              "array([[0.28281497, 0.50690911, 0.28097565, 0.37773111, 0.93082627],\n",
              "       [0.84838406, 0.84200774, 0.2348714 , 0.59241724, 0.096603  ]])"
            ]
          },
          "metadata": {},
          "execution_count": 59
        }
      ]
    },
    {
      "cell_type": "code",
      "source": [
        "np.random.normal(0,1,10).reshape(2,5) # 정규분포"
      ],
      "metadata": {
        "colab": {
          "base_uri": "https://localhost:8080/"
        },
        "id": "hI-QzZqwgMLV",
        "outputId": "b14d13c1-6bae-4c0a-978d-47c6881911ca"
      },
      "execution_count": 60,
      "outputs": [
        {
          "output_type": "execute_result",
          "data": {
            "text/plain": [
              "array([[-0.82969572, -1.14764573, -0.0253177 ,  0.37668061, -0.13319926],\n",
              "       [-0.52202325, -1.01429819, -1.56354048, -0.65462835, -0.93945401]])"
            ]
          },
          "metadata": {},
          "execution_count": 60
        }
      ]
    },
    {
      "cell_type": "markdown",
      "source": [
        "## Operation functions\n",
        "\n",
        "### sum\n",
        "- ndarray의 element들 간의 합을 구함, list의 sum 기능과 동일"
      ],
      "metadata": {
        "id": "4F1dbp3bh7Z7"
      }
    },
    {
      "cell_type": "code",
      "source": [
        "test_array = np.arange(1,11)\n",
        "test_array"
      ],
      "metadata": {
        "colab": {
          "base_uri": "https://localhost:8080/"
        },
        "id": "kxIQrSAyiBww",
        "outputId": "56c749af-057e-4d22-8ce6-8485ec4bf8f5"
      },
      "execution_count": 61,
      "outputs": [
        {
          "output_type": "execute_result",
          "data": {
            "text/plain": [
              "array([ 1,  2,  3,  4,  5,  6,  7,  8,  9, 10])"
            ]
          },
          "metadata": {},
          "execution_count": 61
        }
      ]
    },
    {
      "cell_type": "code",
      "source": [
        "test_array.sum(dtype=float)"
      ],
      "metadata": {
        "colab": {
          "base_uri": "https://localhost:8080/"
        },
        "id": "qRXXYonTiIqg",
        "outputId": "19539d23-2880-4679-9cd3-ff2fa508c986"
      },
      "execution_count": 63,
      "outputs": [
        {
          "output_type": "execute_result",
          "data": {
            "text/plain": [
              "55.0"
            ]
          },
          "metadata": {},
          "execution_count": 63
        }
      ]
    },
    {
      "cell_type": "markdown",
      "source": [
        "### axis\n",
        "- 모든 operation function을 실행할 때, 기준이 되는 dimension 축\n",
        "  - 항상 먼저 생긴 dimension이 0부터 시작함을 알아야 함!!\n",
        "  - dimension의 개수에 따라 행이 될 수도, 열이 될 수도, 높이가 될 수도 있는 것."
      ],
      "metadata": {
        "id": "jF-nEJIMiO0u"
      }
    },
    {
      "cell_type": "code",
      "source": [
        "test_array = np.arange(1,13).reshape(3,4)\n",
        "test_array"
      ],
      "metadata": {
        "colab": {
          "base_uri": "https://localhost:8080/"
        },
        "id": "MrGCfjE4id0F",
        "outputId": "775e73e9-6c9c-4e92-ba73-5e60bc2c9efc"
      },
      "execution_count": 65,
      "outputs": [
        {
          "output_type": "execute_result",
          "data": {
            "text/plain": [
              "array([[ 1,  2,  3,  4],\n",
              "       [ 5,  6,  7,  8],\n",
              "       [ 9, 10, 11, 12]])"
            ]
          },
          "metadata": {},
          "execution_count": 65
        }
      ]
    },
    {
      "cell_type": "code",
      "source": [
        "test_array.sum(axis=1) # 여기서 axis 1 은? \"열\"!! => 열 기준으로 sum을 해준 것."
      ],
      "metadata": {
        "colab": {
          "base_uri": "https://localhost:8080/"
        },
        "id": "3uESlGOYim2R",
        "outputId": "d0deb31f-099f-484e-851a-fc335b830022"
      },
      "execution_count": 66,
      "outputs": [
        {
          "output_type": "execute_result",
          "data": {
            "text/plain": [
              "array([10, 26, 42])"
            ]
          },
          "metadata": {},
          "execution_count": 66
        }
      ]
    },
    {
      "cell_type": "code",
      "source": [
        "test_array.sum(axis=0) # 여기서 axis 1 은? \"행\""
      ],
      "metadata": {
        "colab": {
          "base_uri": "https://localhost:8080/"
        },
        "id": "FcJSdkQXivz1",
        "outputId": "831bafb1-8760-44df-8e80-4304f2f4b032"
      },
      "execution_count": 68,
      "outputs": [
        {
          "output_type": "execute_result",
          "data": {
            "text/plain": [
              "array([15, 18, 21, 24])"
            ]
          },
          "metadata": {},
          "execution_count": 68
        }
      ]
    },
    {
      "cell_type": "code",
      "source": [
        "third_order_tensor = np.array([test_array,test_array,test_array])\n",
        "third_order_tensor"
      ],
      "metadata": {
        "colab": {
          "base_uri": "https://localhost:8080/"
        },
        "id": "3-PQ5td4i9-K",
        "outputId": "216892ee-cf21-4013-c542-cd08a97a295e"
      },
      "execution_count": 69,
      "outputs": [
        {
          "output_type": "execute_result",
          "data": {
            "text/plain": [
              "array([[[ 1,  2,  3,  4],\n",
              "        [ 5,  6,  7,  8],\n",
              "        [ 9, 10, 11, 12]],\n",
              "\n",
              "       [[ 1,  2,  3,  4],\n",
              "        [ 5,  6,  7,  8],\n",
              "        [ 9, 10, 11, 12]],\n",
              "\n",
              "       [[ 1,  2,  3,  4],\n",
              "        [ 5,  6,  7,  8],\n",
              "        [ 9, 10, 11, 12]]])"
            ]
          },
          "metadata": {},
          "execution_count": 69
        }
      ]
    },
    {
      "cell_type": "code",
      "source": [
        "third_order_tensor.sum(axis=2)  # 여기서 axis=2는 열"
      ],
      "metadata": {
        "colab": {
          "base_uri": "https://localhost:8080/"
        },
        "id": "-ITDiudzjCr-",
        "outputId": "04a33b5e-e06b-4a61-c94a-a0c57edeb550"
      },
      "execution_count": 70,
      "outputs": [
        {
          "output_type": "execute_result",
          "data": {
            "text/plain": [
              "array([[10, 26, 42],\n",
              "       [10, 26, 42],\n",
              "       [10, 26, 42]])"
            ]
          },
          "metadata": {},
          "execution_count": 70
        }
      ]
    },
    {
      "cell_type": "markdown",
      "source": [
        "### 그 외 수학 함수\n",
        "- mean & std\n",
        "  - ndarray의 element들 간의 평균 또는 표준 편차를 반환\n",
        "\n",
        "- Mathematical functions\n",
        "  - 그 외에도 다양한 수학 연산자를 제공함\n",
        "\n"
      ],
      "metadata": {
        "id": "4RpV4zzJjI_M"
      }
    },
    {
      "cell_type": "code",
      "source": [
        "test_array.mean(), test_array.mean(axis=0)"
      ],
      "metadata": {
        "colab": {
          "base_uri": "https://localhost:8080/"
        },
        "id": "a0E0TgPhjUY1",
        "outputId": "7b4a4673-3c51-4427-e920-2d788556d847"
      },
      "execution_count": 71,
      "outputs": [
        {
          "output_type": "execute_result",
          "data": {
            "text/plain": [
              "(6.5, array([5., 6., 7., 8.]))"
            ]
          },
          "metadata": {},
          "execution_count": 71
        }
      ]
    },
    {
      "cell_type": "code",
      "source": [
        "test_array.std(), test_array.std(axis=0)"
      ],
      "metadata": {
        "colab": {
          "base_uri": "https://localhost:8080/"
        },
        "id": "LeFb21qkjaLT",
        "outputId": "79730433-733f-45d8-a453-069cf0fd0dce"
      },
      "execution_count": 72,
      "outputs": [
        {
          "output_type": "execute_result",
          "data": {
            "text/plain": [
              "(3.452052529534663, array([3.26598632, 3.26598632, 3.26598632, 3.26598632]))"
            ]
          },
          "metadata": {},
          "execution_count": 72
        }
      ]
    },
    {
      "cell_type": "markdown",
      "source": [
        "### concatenate\n",
        "붙이다!\n",
        "- Numpy Array를 합치는 함수\n",
        "  - vstack: vertical stack: 세로 결합\n",
        "    - 배열의 열 개수가 일치하여야 함.\n",
        "  - hstack: horizontal stack: 가로 결합\n",
        "    - 배열의 행 개수가 일치하여야 함.\n",
        "\n",
        "if) dimenson이 3이라면?"
      ],
      "metadata": {
        "id": "_0-hzuLLjdoV"
      }
    },
    {
      "cell_type": "code",
      "source": [
        "a = np.array([1, 2, 3])\n",
        "b = np.array([2, 3, 4])\n",
        "np.vstack((a,b))"
      ],
      "metadata": {
        "colab": {
          "base_uri": "https://localhost:8080/"
        },
        "id": "1slBx6Mfkgwr",
        "outputId": "0108c10b-3e40-49ce-eab2-c048a1a76db7"
      },
      "execution_count": 73,
      "outputs": [
        {
          "output_type": "execute_result",
          "data": {
            "text/plain": [
              "array([[1, 2, 3],\n",
              "       [2, 3, 4]])"
            ]
          },
          "metadata": {},
          "execution_count": 73
        }
      ]
    },
    {
      "cell_type": "code",
      "source": [
        "a = np.array([ [1], [2], [3]])\n",
        "b = np.array([ [2], [3], [4]])\n",
        "np.hstack((a,b))"
      ],
      "metadata": {
        "colab": {
          "base_uri": "https://localhost:8080/"
        },
        "id": "Lfgy7wQHkkzp",
        "outputId": "e26d253c-5829-4c4c-decd-dcf17ffa5d10"
      },
      "execution_count": 74,
      "outputs": [
        {
          "output_type": "execute_result",
          "data": {
            "text/plain": [
              "array([[1, 2],\n",
              "       [2, 3],\n",
              "       [3, 4]])"
            ]
          },
          "metadata": {},
          "execution_count": 74
        }
      ]
    },
    {
      "cell_type": "code",
      "source": [
        "a = np.array([[1, 2, 3], [1, 2, 3], [1, 2, 3]])\n",
        "b = np.array([[2, 3, 4], [2, 3, 4], [2, 3, 4]])\n",
        "np.vstack((a,b))"
      ],
      "metadata": {
        "colab": {
          "base_uri": "https://localhost:8080/"
        },
        "id": "tJsjQZRxkllF",
        "outputId": "2f430780-01c1-42a6-cbf2-ae552f7009c0"
      },
      "execution_count": 75,
      "outputs": [
        {
          "output_type": "execute_result",
          "data": {
            "text/plain": [
              "array([[1, 2, 3],\n",
              "       [1, 2, 3],\n",
              "       [1, 2, 3],\n",
              "       [2, 3, 4],\n",
              "       [2, 3, 4],\n",
              "       [2, 3, 4]])"
            ]
          },
          "metadata": {},
          "execution_count": 75
        }
      ]
    },
    {
      "cell_type": "code",
      "source": [
        "tensor1 = np.array([\n",
        "[[1, 2, 3], [1, 2, 3]], [[1, 2, 3], [1, 2, 3]], \n",
        "[[1, 2, 3], [1, 2, 3]], [[1, 2, 3], [1, 2, 3]]\n",
        "])\n",
        "\n",
        "tensor2 = np.array([\n",
        "[[4, 5, 6], [4, 5, 6]], [[4, 5, 6], [4, 5, 6]], \n",
        "[[4, 5, 6], [4, 5, 6]], [[4, 5, 6], [4, 5, 6]]\n",
        "])\n",
        "\n",
        "np.hstack((tensor1, tensor2))"
      ],
      "metadata": {
        "colab": {
          "base_uri": "https://localhost:8080/"
        },
        "id": "-rUMIdOqlcxX",
        "outputId": "4b821d58-7a6f-4d5c-dbdd-f2891387d881"
      },
      "execution_count": 81,
      "outputs": [
        {
          "output_type": "execute_result",
          "data": {
            "text/plain": [
              "array([[[1, 2, 3],\n",
              "        [1, 2, 3],\n",
              "        [4, 5, 6],\n",
              "        [4, 5, 6]],\n",
              "\n",
              "       [[1, 2, 3],\n",
              "        [1, 2, 3],\n",
              "        [4, 5, 6],\n",
              "        [4, 5, 6]],\n",
              "\n",
              "       [[1, 2, 3],\n",
              "        [1, 2, 3],\n",
              "        [4, 5, 6],\n",
              "        [4, 5, 6]],\n",
              "\n",
              "       [[1, 2, 3],\n",
              "        [1, 2, 3],\n",
              "        [4, 5, 6],\n",
              "        [4, 5, 6]]])"
            ]
          },
          "metadata": {},
          "execution_count": 81
        }
      ]
    },
    {
      "cell_type": "code",
      "source": [
        "np.vstack((tensor1, tensor2))"
      ],
      "metadata": {
        "colab": {
          "base_uri": "https://localhost:8080/"
        },
        "id": "E9t3mEt0m26s",
        "outputId": "13382039-39f6-4dac-9cfe-dceb94a0ba6f"
      },
      "execution_count": 82,
      "outputs": [
        {
          "output_type": "execute_result",
          "data": {
            "text/plain": [
              "array([[[1, 2, 3],\n",
              "        [1, 2, 3]],\n",
              "\n",
              "       [[1, 2, 3],\n",
              "        [1, 2, 3]],\n",
              "\n",
              "       [[1, 2, 3],\n",
              "        [1, 2, 3]],\n",
              "\n",
              "       [[1, 2, 3],\n",
              "        [1, 2, 3]],\n",
              "\n",
              "       [[4, 5, 6],\n",
              "        [4, 5, 6]],\n",
              "\n",
              "       [[4, 5, 6],\n",
              "        [4, 5, 6]],\n",
              "\n",
              "       [[4, 5, 6],\n",
              "        [4, 5, 6]],\n",
              "\n",
              "       [[4, 5, 6],\n",
              "        [4, 5, 6]]])"
            ]
          },
          "metadata": {},
          "execution_count": 82
        }
      ]
    },
    {
      "cell_type": "markdown",
      "source": [
        "- axis를 기준으로 concate도 가능"
      ],
      "metadata": {
        "id": "zoBRMc-CnJC2"
      }
    },
    {
      "cell_type": "code",
      "source": [
        "a = np.array([[1, 2, 3]])\n",
        "b = np.array([[2, 3, 4]])\n",
        "np.concatenate((a,b) ,axis=0)"
      ],
      "metadata": {
        "colab": {
          "base_uri": "https://localhost:8080/"
        },
        "id": "vGnyCo0Bm9vs",
        "outputId": "7c7e2dd4-547a-4ef4-cc8a-4a17340c35ce"
      },
      "execution_count": 84,
      "outputs": [
        {
          "output_type": "execute_result",
          "data": {
            "text/plain": [
              "array([[1, 2, 3],\n",
              "       [2, 3, 4]])"
            ]
          },
          "metadata": {},
          "execution_count": 84
        }
      ]
    },
    {
      "cell_type": "code",
      "source": [
        "a = np.array([[1, 2], [3, 4]])\n",
        "b = np.array([[5, 6]])\n",
        "\n",
        "np.concatenate( (a,b.T) ,axis=1)"
      ],
      "metadata": {
        "colab": {
          "base_uri": "https://localhost:8080/"
        },
        "id": "gRd36xJrnAWu",
        "outputId": "7ac6e234-b587-46d2-c02f-de6f4fa836b9"
      },
      "execution_count": 85,
      "outputs": [
        {
          "output_type": "execute_result",
          "data": {
            "text/plain": [
              "array([[1, 2, 5],\n",
              "       [3, 4, 6]])"
            ]
          },
          "metadata": {},
          "execution_count": 85
        }
      ]
    },
    {
      "cell_type": "markdown",
      "source": [
        "## array operations\n",
        "### Operations b/t arrays\n",
        "- Numpy는 array간의 기본적인 사칙 연산을 지원함\n"
      ],
      "metadata": {
        "id": "h4l5QeI-nMC6"
      }
    },
    {
      "cell_type": "code",
      "source": [
        "test_a = np.array([[1,2,3],[4,5,6]], float)"
      ],
      "metadata": {
        "id": "pytd3OeCnRgi"
      },
      "execution_count": 86,
      "outputs": []
    },
    {
      "cell_type": "code",
      "source": [
        "test_a + test_a # Matrix + Matrix 연산"
      ],
      "metadata": {
        "colab": {
          "base_uri": "https://localhost:8080/"
        },
        "id": "W2SfZRJgnWny",
        "outputId": "6446dc95-68f0-4bb8-ed82-2108166fcb80"
      },
      "execution_count": 87,
      "outputs": [
        {
          "output_type": "execute_result",
          "data": {
            "text/plain": [
              "array([[ 2.,  4.,  6.],\n",
              "       [ 8., 10., 12.]])"
            ]
          },
          "metadata": {},
          "execution_count": 87
        }
      ]
    },
    {
      "cell_type": "code",
      "source": [
        "test_a - test_a # Matrix - Matrix 연산"
      ],
      "metadata": {
        "colab": {
          "base_uri": "https://localhost:8080/"
        },
        "id": "26Wqu_T3nY60",
        "outputId": "27f8acbd-e4cf-4600-9999-329941cb76cb"
      },
      "execution_count": 88,
      "outputs": [
        {
          "output_type": "execute_result",
          "data": {
            "text/plain": [
              "array([[0., 0., 0.],\n",
              "       [0., 0., 0.]])"
            ]
          },
          "metadata": {},
          "execution_count": 88
        }
      ]
    },
    {
      "cell_type": "code",
      "source": [
        "test_a * test_a # Matrix내 element들 간 같은 위치에 있는 값들끼리 연산"
      ],
      "metadata": {
        "colab": {
          "base_uri": "https://localhost:8080/"
        },
        "id": "df8EO56OnbKL",
        "outputId": "41d40332-5122-4b3f-aade-fa671dabbc77"
      },
      "execution_count": 89,
      "outputs": [
        {
          "output_type": "execute_result",
          "data": {
            "text/plain": [
              "array([[ 1.,  4.,  9.],\n",
              "       [16., 25., 36.]])"
            ]
          },
          "metadata": {},
          "execution_count": 89
        }
      ]
    },
    {
      "cell_type": "code",
      "source": [
        "matrix_a = np.arange(1,13).reshape(3,4)\n",
        "matrix_a * matrix_a"
      ],
      "metadata": {
        "colab": {
          "base_uri": "https://localhost:8080/"
        },
        "id": "0OkYgE9pnfjI",
        "outputId": "d0e424e6-94e9-4abc-e590-f1bb2490072f"
      },
      "execution_count": 90,
      "outputs": [
        {
          "output_type": "execute_result",
          "data": {
            "text/plain": [
              "array([[  1,   4,   9,  16],\n",
              "       [ 25,  36,  49,  64],\n",
              "       [ 81, 100, 121, 144]])"
            ]
          },
          "metadata": {},
          "execution_count": 90
        }
      ]
    },
    {
      "cell_type": "markdown",
      "source": [
        "### Dot product\n",
        "- Matrix의 기본 연산\n",
        "- dot 함수 사용"
      ],
      "metadata": {
        "id": "BMWKFCxmnikR"
      }
    },
    {
      "cell_type": "code",
      "source": [
        "test_a = np.arange(1,7).reshape(2,3)\n",
        "test_b = np.arange(7,13).reshape(3,2)"
      ],
      "metadata": {
        "id": "8aVsg8vQnkU2"
      },
      "execution_count": 91,
      "outputs": []
    },
    {
      "cell_type": "code",
      "source": [
        "test_a.dot(test_b)"
      ],
      "metadata": {
        "colab": {
          "base_uri": "https://localhost:8080/"
        },
        "id": "JsmUy30AnnA8",
        "outputId": "d9cb47b1-d887-414b-9307-b3450b48f2a0"
      },
      "execution_count": 92,
      "outputs": [
        {
          "output_type": "execute_result",
          "data": {
            "text/plain": [
              "array([[ 58,  64],\n",
              "       [139, 154]])"
            ]
          },
          "metadata": {},
          "execution_count": 92
        }
      ]
    },
    {
      "cell_type": "markdown",
      "source": [
        "### transpose - 전체 행렬 구하기\n",
        "- transpose 또는 T attribute 사용\n"
      ],
      "metadata": {
        "id": "CArsSv1znpc6"
      }
    },
    {
      "cell_type": "code",
      "source": [
        "test_a = np.arange(1,7).reshape(2,3)\n",
        "test_a"
      ],
      "metadata": {
        "colab": {
          "base_uri": "https://localhost:8080/"
        },
        "id": "9okRylgPnstE",
        "outputId": "c9a9b988-5b56-45aa-992e-57d7739fe52b"
      },
      "execution_count": 93,
      "outputs": [
        {
          "output_type": "execute_result",
          "data": {
            "text/plain": [
              "array([[1, 2, 3],\n",
              "       [4, 5, 6]])"
            ]
          },
          "metadata": {},
          "execution_count": 93
        }
      ]
    },
    {
      "cell_type": "code",
      "source": [
        "test_a.transpose() "
      ],
      "metadata": {
        "colab": {
          "base_uri": "https://localhost:8080/"
        },
        "id": "ZWTB-fR_nwV5",
        "outputId": "0bd1b420-e42a-4d18-be83-0af5ea0738f0"
      },
      "execution_count": 95,
      "outputs": [
        {
          "output_type": "execute_result",
          "data": {
            "text/plain": [
              "array([[1, 4],\n",
              "       [2, 5],\n",
              "       [3, 6]])"
            ]
          },
          "metadata": {},
          "execution_count": 95
        }
      ]
    },
    {
      "cell_type": "markdown",
      "source": [
        "### broadcasting\n",
        "- Shape이 다른 배열 간 연산을 지원하는 기능\n"
      ],
      "metadata": {
        "id": "CfNdF8tLoBYK"
      }
    },
    {
      "cell_type": "code",
      "source": [
        "test_matrix = np.array([[1,2,3],[4,5,6]], float)\n",
        "scalar = 3"
      ],
      "metadata": {
        "id": "FY6RZY1IoFcv"
      },
      "execution_count": 96,
      "outputs": []
    },
    {
      "cell_type": "code",
      "source": [
        "test_matrix + scalar # Matrix - Scalar 덧셈"
      ],
      "metadata": {
        "colab": {
          "base_uri": "https://localhost:8080/"
        },
        "id": "3FZJL6ohoHn6",
        "outputId": "442fb073-8986-445c-f1cc-7c5276de4fa6"
      },
      "execution_count": 97,
      "outputs": [
        {
          "output_type": "execute_result",
          "data": {
            "text/plain": [
              "array([[4., 5., 6.],\n",
              "       [7., 8., 9.]])"
            ]
          },
          "metadata": {},
          "execution_count": 97
        }
      ]
    },
    {
      "cell_type": "code",
      "source": [
        "test_matrix - scalar # Matrix - Scalar 뺄셈"
      ],
      "metadata": {
        "colab": {
          "base_uri": "https://localhost:8080/"
        },
        "id": "AKqq588yoJnv",
        "outputId": "74241fcd-85b2-448c-ade2-73a3400edc5a"
      },
      "execution_count": 98,
      "outputs": [
        {
          "output_type": "execute_result",
          "data": {
            "text/plain": [
              "array([[-2., -1.,  0.],\n",
              "       [ 1.,  2.,  3.]])"
            ]
          },
          "metadata": {},
          "execution_count": 98
        }
      ]
    },
    {
      "cell_type": "code",
      "source": [
        "test_matrix * 5 # Matrix - Scalar 곱셈"
      ],
      "metadata": {
        "colab": {
          "base_uri": "https://localhost:8080/"
        },
        "id": "qLcNvXyzoLd4",
        "outputId": "a60184f2-9b6c-4fd8-c977-53710fd420a0"
      },
      "execution_count": 99,
      "outputs": [
        {
          "output_type": "execute_result",
          "data": {
            "text/plain": [
              "array([[ 5., 10., 15.],\n",
              "       [20., 25., 30.]])"
            ]
          },
          "metadata": {},
          "execution_count": 99
        }
      ]
    },
    {
      "cell_type": "markdown",
      "source": [
        "\n",
        "- Scalar–vector 외에도 vector–matrix 간의 연산도 지원"
      ],
      "metadata": {
        "id": "-ClW-ZK_oXJX"
      }
    },
    {
      "cell_type": "code",
      "source": [
        "test_matrix = np.arange(1,13).reshape(4,3)\n",
        "test_vector = np.arange(10,40,10)\n",
        "print(test_matrix)\n",
        "print(test_vector)"
      ],
      "metadata": {
        "colab": {
          "base_uri": "https://localhost:8080/"
        },
        "id": "ndTGeYR3oXow",
        "outputId": "6722ae9c-3ac1-4f15-a5c1-6be536859562"
      },
      "execution_count": 101,
      "outputs": [
        {
          "output_type": "stream",
          "name": "stdout",
          "text": [
            "[[ 1  2  3]\n",
            " [ 4  5  6]\n",
            " [ 7  8  9]\n",
            " [10 11 12]]\n",
            "[10 20 30]\n"
          ]
        }
      ]
    },
    {
      "cell_type": "code",
      "source": [
        "test_matrix+ test_vector"
      ],
      "metadata": {
        "colab": {
          "base_uri": "https://localhost:8080/"
        },
        "id": "VCpTh7Vfoiyt",
        "outputId": "3ba913aa-658e-4311-81d2-a0005a3a77f5"
      },
      "execution_count": 102,
      "outputs": [
        {
          "output_type": "execute_result",
          "data": {
            "text/plain": [
              "array([[11, 22, 33],\n",
              "       [14, 25, 36],\n",
              "       [17, 28, 39],\n",
              "       [20, 31, 42]])"
            ]
          },
          "metadata": {},
          "execution_count": 102
        }
      ]
    },
    {
      "cell_type": "markdown",
      "source": [
        "## Performance \n",
        "- timeit: jupyter 환경에서 코드의 퍼포먼스를 체크하는 함수\n",
        "\n",
        "```python\n",
        "def sclar_vector_product(scalar, vector):\n",
        " result = []\n",
        " for value in vector:\n",
        "  result.append(scalar * value)\n",
        " return result \n",
        "\n",
        "iternation_max = 100000000\n",
        "\n",
        "vector = list(range(iternation_max))\n",
        "scalar = 2\n",
        "\n",
        "%timeit sclar_vector_product(scalar, vector) # for loop을 이용한 성능\n",
        "%timeit [scalar * value for value in range(iternation_max)] # list comprehension을 이용한 성능\n",
        "%timeit np.arange(iternation_max) * scalar # numpy를 이용한 성능\n",
        "```\n"
      ],
      "metadata": {
        "id": "HnuQZsdmoulZ"
      }
    },
    {
      "cell_type": "markdown",
      "source": [
        "- 일반적으로 속도는 다음과 같은 순서임.\n",
        "  - for loop < list comprehension < numpy\n",
        "- 100,000,000 번의 loop이 돌 때 약 약 4배 이상의 성능 차이를 보임\n",
        "- Numpy는 C로 구현되어 있어, 성능을 확보하는 대신\n",
        "- 파이썬의 가장 큰 특징인 dynamic typing을 포기함\n",
        "- 대용량 계산에서는 가장 흔히 사용됨\n",
        "- Concatenate 처럼 계산이 아닌, 할당에서는 연산 속도의 이점이 없음"
      ],
      "metadata": {
        "id": "yLaOAPMEpCvw"
      }
    },
    {
      "cell_type": "markdown",
      "source": [
        "## Comparison\n",
        "### All & Any\n",
        "- Array의 데이터 전부(and) 또는 일부(or)가 조건에 만족 여부 반환\n",
        "  - all: 모두가 조건에 만족할 때 True\n",
        "  - any: 하나라도 조건에 만족하면 True\n",
        "  - 그 외에도 logical_and, logical_not, logical_or 등이 있음."
      ],
      "metadata": {
        "id": "lfMg0VCipPmu"
      }
    },
    {
      "cell_type": "code",
      "source": [
        "a = np.arange(10)\n",
        "a"
      ],
      "metadata": {
        "colab": {
          "base_uri": "https://localhost:8080/"
        },
        "id": "rQzCRUKFpy51",
        "outputId": "d5969799-4649-4e24-ba8f-9adbe810e5ed"
      },
      "execution_count": 105,
      "outputs": [
        {
          "output_type": "execute_result",
          "data": {
            "text/plain": [
              "array([0, 1, 2, 3, 4, 5, 6, 7, 8, 9])"
            ]
          },
          "metadata": {},
          "execution_count": 105
        }
      ]
    },
    {
      "cell_type": "code",
      "source": [
        "a>5"
      ],
      "metadata": {
        "colab": {
          "base_uri": "https://localhost:8080/"
        },
        "id": "wJyoDKqLp0eV",
        "outputId": "93dffad4-95ae-48ff-9364-8a79610ac007"
      },
      "execution_count": 106,
      "outputs": [
        {
          "output_type": "execute_result",
          "data": {
            "text/plain": [
              "array([False, False, False, False, False, False,  True,  True,  True,\n",
              "        True])"
            ]
          },
          "metadata": {},
          "execution_count": 106
        }
      ]
    },
    {
      "cell_type": "code",
      "source": [
        "np.all(a>5) , np.all(a < 10)"
      ],
      "metadata": {
        "colab": {
          "base_uri": "https://localhost:8080/"
        },
        "id": "g-fI6bRvp-z_",
        "outputId": "eedc41d4-6621-432a-fc77-88b6359daeb0"
      },
      "execution_count": 108,
      "outputs": [
        {
          "output_type": "execute_result",
          "data": {
            "text/plain": [
              "(False, True)"
            ]
          },
          "metadata": {},
          "execution_count": 108
        }
      ]
    },
    {
      "cell_type": "code",
      "source": [
        "np.any(a>5), np.any(a<0)"
      ],
      "metadata": {
        "colab": {
          "base_uri": "https://localhost:8080/"
        },
        "id": "ZROCZRROp2XR",
        "outputId": "428f3564-d68e-4028-9850-36c2a42feabe"
      },
      "execution_count": 107,
      "outputs": [
        {
          "output_type": "execute_result",
          "data": {
            "text/plain": [
              "(True, False)"
            ]
          },
          "metadata": {},
          "execution_count": 107
        }
      ]
    },
    {
      "cell_type": "markdown",
      "source": [
        "### np.where\n",
        "조건에 만족하는 인덱스를 반환함."
      ],
      "metadata": {
        "id": "05AQGqVhqcO4"
      }
    },
    {
      "cell_type": "code",
      "source": [
        "a = np.array([1, 3, 0], float)\n",
        "a"
      ],
      "metadata": {
        "colab": {
          "base_uri": "https://localhost:8080/"
        },
        "id": "nqF7FsTIqnQY",
        "outputId": "252cd87f-2112-4922-c77f-52ad57ac0290"
      },
      "execution_count": 112,
      "outputs": [
        {
          "output_type": "execute_result",
          "data": {
            "text/plain": [
              "array([1., 3., 0.])"
            ]
          },
          "metadata": {},
          "execution_count": 112
        }
      ]
    },
    {
      "cell_type": "code",
      "source": [
        "np.where(a > 0, 3, 2) # a > 0 에 따라 True이면 3을, False이면 2를 반환한다."
      ],
      "metadata": {
        "colab": {
          "base_uri": "https://localhost:8080/"
        },
        "id": "UDkAZzhnqypK",
        "outputId": "4d6eabb5-7561-4ac8-e5a6-9c0df9d4d891"
      },
      "execution_count": 113,
      "outputs": [
        {
          "output_type": "execute_result",
          "data": {
            "text/plain": [
              "array([3, 3, 2])"
            ]
          },
          "metadata": {},
          "execution_count": 113
        }
      ]
    },
    {
      "cell_type": "code",
      "source": [
        "np.where(a>0) # 인덱스 값 반환"
      ],
      "metadata": {
        "colab": {
          "base_uri": "https://localhost:8080/"
        },
        "id": "5LcwCUJWrDfj",
        "outputId": "de5e7698-e5dc-4ee4-ec91-23b261c80399"
      },
      "execution_count": 114,
      "outputs": [
        {
          "output_type": "execute_result",
          "data": {
            "text/plain": [
              "(array([0, 1]),)"
            ]
          },
          "metadata": {},
          "execution_count": 114
        }
      ]
    },
    {
      "cell_type": "markdown",
      "source": [
        "### argmax & argmin\n",
        "- array 내 최대값 또는 최소값의 index를 반환함\n",
        "- axis 기반의 반환도 가능\n",
        "\n",
        "**numpy에 for문을 쓰지 말고 이런 함수들을 적용하도록 노력해라!!!**"
      ],
      "metadata": {
        "id": "93EuliUqrUJt"
      }
    },
    {
      "cell_type": "code",
      "source": [
        "a = np.array([1,2,4,5,8,78,23,3])\n",
        "np.argmax(a) , np.argmin(a)"
      ],
      "metadata": {
        "colab": {
          "base_uri": "https://localhost:8080/"
        },
        "id": "cgTmF47zrXcb",
        "outputId": "9628bf11-9b68-424e-cf25-a1e7c4eecd5c"
      },
      "execution_count": 115,
      "outputs": [
        {
          "output_type": "execute_result",
          "data": {
            "text/plain": [
              "(5, 0)"
            ]
          },
          "metadata": {},
          "execution_count": 115
        }
      ]
    },
    {
      "cell_type": "code",
      "source": [
        "a = np.array([[1,2,4,7],[9,88,6,45],[9,76,3,4]])\n",
        "np.argmax(a, axis=1) , np.argmin(a, axis=0)"
      ],
      "metadata": {
        "colab": {
          "base_uri": "https://localhost:8080/"
        },
        "id": "oTtd5Yo5rc4I",
        "outputId": "8b859a6a-f0f3-40fb-aa72-8ea05a6cb75a"
      },
      "execution_count": 118,
      "outputs": [
        {
          "output_type": "execute_result",
          "data": {
            "text/plain": [
              "(array([3, 1, 1]), array([0, 0, 2, 2]))"
            ]
          },
          "metadata": {},
          "execution_count": 118
        }
      ]
    },
    {
      "cell_type": "markdown",
      "source": [
        "## Boolean & Fancy index\n",
        "### boolean index\n",
        "- numpy는 배열은 특정 조건에 따른 값을 배열 형태로 추출 할 수 있음\n",
        "- Comparison operation 함수들도 모두 사용가능 \n",
        "\n"
      ],
      "metadata": {
        "id": "GKe5taopryQZ"
      }
    },
    {
      "cell_type": "code",
      "source": [
        "test_array = np.array([1, 4, 0, 2, 3, 8, 9, 7], float)\n",
        "test_array > 3"
      ],
      "metadata": {
        "colab": {
          "base_uri": "https://localhost:8080/"
        },
        "id": "A7ojxRq2sKuv",
        "outputId": "d29dcf6b-20ee-4576-d23f-79c3a34ee4e3"
      },
      "execution_count": 119,
      "outputs": [
        {
          "output_type": "execute_result",
          "data": {
            "text/plain": [
              "array([False,  True, False, False, False,  True,  True,  True])"
            ]
          },
          "metadata": {},
          "execution_count": 119
        }
      ]
    },
    {
      "cell_type": "code",
      "source": [
        "test_array[test_array > 3] # 조건이 True인 index의 element만 추출"
      ],
      "metadata": {
        "colab": {
          "base_uri": "https://localhost:8080/"
        },
        "id": "Uo0Yoe3osUef",
        "outputId": "e9e1ddcb-0fa3-4b3d-d778-3be61c877371"
      },
      "execution_count": 120,
      "outputs": [
        {
          "output_type": "execute_result",
          "data": {
            "text/plain": [
              "array([4., 8., 9., 7.])"
            ]
          },
          "metadata": {},
          "execution_count": 120
        }
      ]
    },
    {
      "cell_type": "code",
      "source": [
        "condition = test_array < 3 \n",
        "test_array[condition]"
      ],
      "metadata": {
        "colab": {
          "base_uri": "https://localhost:8080/"
        },
        "id": "s6T-D92vsaLF",
        "outputId": "11315d73-ee1f-4608-83dc-f24f35c7d33c"
      },
      "execution_count": 121,
      "outputs": [
        {
          "output_type": "execute_result",
          "data": {
            "text/plain": [
              "array([1., 0., 2.])"
            ]
          },
          "metadata": {},
          "execution_count": 121
        }
      ]
    },
    {
      "cell_type": "markdown",
      "source": [
        "### fancy index\n",
        "- numpy는 array를 index value로 사용해서 값을 추출하는 방법"
      ],
      "metadata": {
        "id": "uXuswST0smqM"
      }
    },
    {
      "cell_type": "code",
      "source": [
        "a = np.array([2, 4, 6, 8], float)\n",
        "a"
      ],
      "metadata": {
        "colab": {
          "base_uri": "https://localhost:8080/"
        },
        "id": "6mf__eocsoez",
        "outputId": "819f688b-90d2-43f2-da68-fb2d2379a63c"
      },
      "execution_count": 123,
      "outputs": [
        {
          "output_type": "execute_result",
          "data": {
            "text/plain": [
              "array([2., 4., 6., 8.])"
            ]
          },
          "metadata": {},
          "execution_count": 123
        }
      ]
    },
    {
      "cell_type": "code",
      "source": [
        "b = np.array([0, 0, 1, 3, 2, 1], int) # 반드시 integer로 선언한다.\n",
        "b"
      ],
      "metadata": {
        "colab": {
          "base_uri": "https://localhost:8080/"
        },
        "id": "uR-UYro-s9oW",
        "outputId": "7853acd3-038b-4f69-f0a5-a3828ca8a501"
      },
      "execution_count": 125,
      "outputs": [
        {
          "output_type": "execute_result",
          "data": {
            "text/plain": [
              "array([0, 0, 1, 3, 2, 1])"
            ]
          },
          "metadata": {},
          "execution_count": 125
        }
      ]
    },
    {
      "cell_type": "code",
      "source": [
        "a[b] # bracket index, b 배열의 값을 index로 하여 a의 값을 추출한다."
      ],
      "metadata": {
        "colab": {
          "base_uri": "https://localhost:8080/"
        },
        "id": "8ZKOmtQNsv9H",
        "outputId": "b20c68ab-d7c9-4d01-ea58-08c59448645b"
      },
      "execution_count": 126,
      "outputs": [
        {
          "output_type": "execute_result",
          "data": {
            "text/plain": [
              "array([2., 2., 4., 8., 6., 4.])"
            ]
          },
          "metadata": {},
          "execution_count": 126
        }
      ]
    },
    {
      "cell_type": "code",
      "source": [
        "a.take(b) # take 함수: bracket index와 같은 효과 "
      ],
      "metadata": {
        "colab": {
          "base_uri": "https://localhost:8080/"
        },
        "id": "nzcd2wmEs8En",
        "outputId": "6f1bfb12-8dd0-497d-c1a4-bbb9ac130e40"
      },
      "execution_count": 127,
      "outputs": [
        {
          "output_type": "execute_result",
          "data": {
            "text/plain": [
              "array([2., 2., 4., 8., 6., 4.])"
            ]
          },
          "metadata": {},
          "execution_count": 127
        }
      ]
    },
    {
      "cell_type": "markdown",
      "source": [
        "- Matrix 형태의 데이터로 가능"
      ],
      "metadata": {
        "id": "Brl7cmY2tf87"
      }
    },
    {
      "cell_type": "code",
      "source": [
        "a = np.array([[1, 4], [9, 16]], float)\n",
        "b = np.array([0, 0, 1, 1, 0], int)\n",
        "c = np.array([0, 1, 1, 1, 1], int)\n",
        "a[b,c] # b를 row index, c를 column index로 변환하여 표시함"
      ],
      "metadata": {
        "colab": {
          "base_uri": "https://localhost:8080/"
        },
        "id": "udYoXBgvtkJW",
        "outputId": "befc1a8a-6bc1-4824-98da-b3c59776d72d"
      },
      "execution_count": 128,
      "outputs": [
        {
          "output_type": "execute_result",
          "data": {
            "text/plain": [
              "array([ 1.,  4., 16., 16.,  4.])"
            ]
          },
          "metadata": {},
          "execution_count": 128
        }
      ]
    },
    {
      "cell_type": "markdown",
      "source": [
        "## numpy data i/o\n",
        "### loadtxt & savetxt\n",
        "- Text type의 데이터를 읽고, 저장하는 기능\n",
        "\n",
        "```python\n",
        "a = np.loadtxt(\"./populations.txt\")\n",
        "a_int = a.astype(int)  # int type 변환\n",
        "np.savetxt('int_data.csv',a_int, delimiter=\",\") # int_data.csv로 저장\n",
        "```\n",
        "\n",
        "### numpy object - npy\n",
        "- Numpy object (pickle) 형태로 데이터를 저장하고 불러옴\n",
        "- Binary 파일 형태로 저장함\n",
        "\n",
        "```python\n",
        "np.save(\"npy_test\", arr=a_int)\n",
        "npy_array = np.load(file=\"npy_test.npy\")\n",
        "npy_array[:3]\n",
        "```\n"
      ],
      "metadata": {
        "id": "21XR48pQtuL9"
      }
    }
  ]
}